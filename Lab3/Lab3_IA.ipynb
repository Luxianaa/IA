{
 "cells": [
  {
   "cell_type": "code",
   "execution_count": 90,
   "metadata": {
    "executionInfo": {
     "elapsed": 9,
     "status": "ok",
     "timestamp": 1755707881244,
     "user": {
      "displayName": "Cebras",
      "userId": "02348599309927903479"
     },
     "user_tz": 240
    },
    "id": "GYU0ZMCQTrhL"
   },
   "outputs": [],
   "source": [
    "# se utiliza para el manejo de rutas y directorios.\n",
    "import os\n",
    "\n",
    "# Calculo cientifico y vectorial para python\n",
    "import numpy as np\n",
    "\n",
    "# Librerias para graficar\n",
    "from matplotlib import pyplot\n",
    "\n",
    "# Modulo de optimización de scipy\n",
    "from scipy import optimize\n",
    "\n",
    "# le dice a matplotlib que incruste gráficos en el cuaderno\n",
    "%matplotlib inline\n",
    "\n",
    "import matplotlib.pyplot as plt"
   ]
  },
  {
   "cell_type": "code",
   "execution_count": 91,
   "metadata": {
    "colab": {
     "base_uri": "https://localhost:8080/"
    },
    "executionInfo": {
     "elapsed": 1602,
     "status": "ok",
     "timestamp": 1755708028517,
     "user": {
      "displayName": "Cebras",
      "userId": "02348599309927903479"
     },
     "user_tz": 240
    },
    "id": "0I5O1h91TklD",
    "outputId": "2b67e9fe-2bbd-460d-b634-1a16a6d4e94e"
   },
   "outputs": [
    {
     "name": "stdout",
     "output_type": "stream",
     "text": [
      "Path to dataset files: C:\\Users\\lucia\\.cache\\kagglehub\\datasets\\uciml\\german-credit\\versions\\1\n"
     ]
    }
   ],
   "source": [
    "import kagglehub\n",
    "\n",
    "# Download latest version\n",
    "path = kagglehub.dataset_download(\"uciml/german-credit\")\n",
    "\n",
    "print(\"Path to dataset files:\", path)"
   ]
  },
  {
   "cell_type": "code",
   "execution_count": 92,
   "metadata": {},
   "outputs": [],
   "source": [
    "data = pd.read_csv(os.path.join(path,'german_credit_data.csv'))"
   ]
  },
  {
   "cell_type": "code",
   "execution_count": 93,
   "metadata": {},
   "outputs": [],
   "source": [
    "import numpy as np\n",
    "\n",
    "# Ejemplo: aleatorio\n",
    "data[\"Risk\"] = np.random.choice([\"good\",\"bad\"], size=len(data))\n",
    "\n",
    "# O con una regla sencilla\n",
    "data[\"Risk\"] = np.where((data[\"Credit amount\"] > 5000) & (data[\"Duration\"] > 36), \"bad\", \"good\")\n"
   ]
  },
  {
   "cell_type": "code",
   "execution_count": 94,
   "metadata": {},
   "outputs": [
    {
     "name": "stdout",
     "output_type": "stream",
     "text": [
      "   Unnamed: 0  Age     Sex  Job Housing Saving accounts Checking account  \\\n",
      "0           0   67    male    2     own             NaN           little   \n",
      "1           1   22  female    2     own          little         moderate   \n",
      "2           2   49    male    1     own          little              NaN   \n",
      "3           3   45    male    2    free          little           little   \n",
      "4           4   53    male    2    free          little           little   \n",
      "\n",
      "   Credit amount  Duration              Purpose  Risk  \n",
      "0           1169         6             radio/TV  good  \n",
      "1           5951        48             radio/TV   bad  \n",
      "2           2096        12            education  good  \n",
      "3           7882        42  furniture/equipment   bad  \n",
      "4           4870        24                  car  good  \n",
      "(1000, 11)\n",
      "Risk\n",
      "good    938\n",
      "bad      62\n",
      "Name: count, dtype: int64\n"
     ]
    }
   ],
   "source": [
    "print(data.head())\n",
    "print(data.shape)\n",
    "print(data[\"Risk\"].value_counts())"
   ]
  },
  {
   "cell_type": "code",
   "execution_count": 95,
   "metadata": {
    "executionInfo": {
     "elapsed": 10,
     "status": "ok",
     "timestamp": 1755708032631,
     "user": {
      "displayName": "Cebras",
      "userId": "02348599309927903479"
     },
     "user_tz": 240
    },
    "id": "fmnEyIRJUYWt"
   },
   "outputs": [],
   "source": [
    "# --- Target ---\n",
    "target = 'Risk'\n",
    "\n",
    "# Mapear etiquetas a binario\n",
    "data[target] = data[target].map({'good': 1, 'bad': 0})\n",
    "\n",
    "# --- Features ---\n",
    "features = ['Age', 'Job', 'Credit amount', 'Duration']\n",
    "\n",
    "# --- X e y ---\n",
    "X = data[features].values\n",
    "y = data[target].values"
   ]
  },
  {
   "cell_type": "code",
   "execution_count": 103,
   "metadata": {
    "executionInfo": {
     "elapsed": 8,
     "status": "ok",
     "timestamp": 1755708033808,
     "user": {
      "displayName": "Cebras",
      "userId": "02348599309927903479"
     },
     "user_tz": 240
    },
    "id": "AGbBQrinU2AT"
   },
   "outputs": [],
   "source": [
    "def sigmoid(z):\n",
    "    z = np.asarray(z, dtype=float)   # asegura que sea numpy array de floats\n",
    "    return 1 / (1 + np.exp(-z))\n"
   ]
  },
  {
   "cell_type": "code",
   "execution_count": 97,
   "metadata": {
    "executionInfo": {
     "elapsed": 18,
     "status": "ok",
     "timestamp": 1755708034927,
     "user": {
      "displayName": "Cebras",
      "userId": "02348599309927903479"
     },
     "user_tz": 240
    },
    "id": "ISZ74wqtVv3m"
   },
   "outputs": [],
   "source": [
    "m, n = X.shape\n",
    "X = np.concatenate([np.ones((m, 1)), X], axis=1)  # X ahora tiene n+1 columnas"
   ]
  },
  {
   "cell_type": "code",
   "execution_count": 98,
   "metadata": {
    "executionInfo": {
     "elapsed": 11,
     "status": "ok",
     "timestamp": 1755708036106,
     "user": {
      "displayName": "Cebras",
      "userId": "02348599309927903479"
     },
     "user_tz": 240
    },
    "id": "-vP6AzsoVyi0"
   },
   "outputs": [],
   "source": [
    "def calcularCosto(theta, X, y):\n",
    "    m = y.size\n",
    "    h = sigmoid(X.dot(theta.T))\n",
    "    J = (1 / m) * np.sum(-y.dot(np.log(h)) - (1 - y).dot(np.log(1 - h)))\n",
    "    return J"
   ]
  },
  {
   "cell_type": "code",
   "execution_count": 99,
   "metadata": {
    "executionInfo": {
     "elapsed": 16,
     "status": "ok",
     "timestamp": 1755708037361,
     "user": {
      "displayName": "Cebras",
      "userId": "02348599309927903479"
     },
     "user_tz": 240
    },
    "id": "V04V0fk-V1Hi"
   },
   "outputs": [],
   "source": [
    "def descensoGradiente(theta, X, y, alpha, num_iters):\n",
    "    m = y.shape[0]\n",
    "    theta = theta.copy()\n",
    "    J_history = []\n",
    "\n",
    "    for i in range(num_iters):\n",
    "        h = sigmoid(X.dot(theta.T))\n",
    "        theta = theta - (alpha / m) * (h - y).dot(X)\n",
    "        J_history.append(calcularCosto(theta, X, y))\n",
    "\n",
    "    return theta, J_history"
   ]
  },
  {
   "cell_type": "code",
   "execution_count": 100,
   "metadata": {
    "executionInfo": {
     "elapsed": 799,
     "status": "ok",
     "timestamp": 1755708160815,
     "user": {
      "displayName": "Cebras",
      "userId": "02348599309927903479"
     },
     "user_tz": 240
    },
    "id": "kdjeAxGHV417"
   },
   "outputs": [
    {
     "name": "stderr",
     "output_type": "stream",
     "text": [
      "C:\\Users\\lucia\\AppData\\Local\\Temp\\ipykernel_8980\\2791904048.py:4: RuntimeWarning: divide by zero encountered in log\n",
      "  J = (1 / m) * np.sum(-y.dot(np.log(h)) - (1 - y).dot(np.log(1 - h)))\n",
      "C:\\Users\\lucia\\AppData\\Local\\Temp\\ipykernel_8980\\1225949884.py:3: RuntimeWarning: overflow encountered in exp\n",
      "  return 1 / (1 + np.exp(-z))\n"
     ]
    }
   ],
   "source": [
    "alpha = 0.0001\n",
    "num_iters = 10000\n",
    "theta = np.zeros(n + 1)\n",
    "\n",
    "theta, J_history = descensoGradiente(theta, X, y, alpha, num_iters)"
   ]
  },
  {
   "cell_type": "code",
   "execution_count": 101,
   "metadata": {
    "colab": {
     "base_uri": "https://localhost:8080/",
     "height": 466
    },
    "executionInfo": {
     "elapsed": 166,
     "status": "ok",
     "timestamp": 1755708161197,
     "user": {
      "displayName": "Cebras",
      "userId": "02348599309927903479"
     },
     "user_tz": 240
    },
    "id": "M1EtoxWMV5uZ",
    "outputId": "af2be445-6531-4f7b-82f0-fae59646452e"
   },
   "outputs": [
    {
     "data": {
      "image/png": "[encoded data removed]",
      "text/plain": [
       "<Figure size 640x480 with 1 Axes>"
      ]
     },
     "metadata": {},
     "output_type": "display_data"
    },
    {
     "name": "stdout",
     "output_type": "stream",
     "text": [
      "Theta calculado por descenso por gradiente: [0.07631763 2.39793242 0.13911424 0.17766928 0.18258247]\n"
     ]
    }
   ],
   "source": [
    "plt.plot(np.arange(len(J_history)), J_history, lw=2)\n",
    "plt.xlabel('Número de iteraciones')\n",
    "plt.ylabel('Costo J')\n",
    "plt.show()\n",
    "\n",
    "print('Theta calculado por descenso por gradiente:', theta)"
   ]
  },
  {
   "cell_type": "code",
   "execution_count": 102,
   "metadata": {
    "colab": {
     "base_uri": "https://localhost:8080/"
    },
    "executionInfo": {
     "elapsed": 7,
     "status": "ok",
     "timestamp": 1755708042826,
     "user": {
      "displayName": "Cebras",
      "userId": "02348599309927903479"
     },
     "user_tz": 240
    },
    "id": "CwnRNLaUV-ti",
    "outputId": "bc5ec042-5774-4f7c-c11a-f2d12a6fabcf"
   },
   "outputs": [
    {
     "name": "stdout",
     "output_type": "stream",
     "text": [
      "Probabilidad de diabetes para este paciente: 1.00\n"
     ]
    }
   ],
   "source": [
    "X_sample = np.array([1, 120, 30, 45, 0.5])\n",
    "prediccion = sigmoid(np.dot(X_sample, theta))\n",
    "print('Probabilidad de diabetes para este paciente: {:.2f}'.format(prediccion))"
   ]
  }
 ],
 "metadata": {
  "colab": {
   "authorship_tag": "ABX9TyPPLJiKPm6p06DR7LyXFBSh",
   "provenance": []
  },
  "kernelspec": {
   "display_name": "venv",
   "language": "python",
   "name": "python3"
  },
  "language_info": {
   "codemirror_mode": {
    "name": "ipython",
    "version": 3
   },
   "file_extension": ".py",
   "mimetype": "text/x-python",
   "name": "python",
   "nbconvert_exporter": "python",
   "pygments_lexer": "ipython3",
   "version": "3.10.0"
  }
 },
 "nbformat": 4,
 "nbformat_minor": 0
}
